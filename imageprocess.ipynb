{
  "cells": [
    {
      "metadata": {
        "_cell_guid": "4d9f4bb1-abcb-4e49-a0dc-bfe252282ed8",
        "_uuid": "58d391021fb618fbc4e6d251c2411f30f0d500ca",
        "trusted": true
      },
      "cell_type": "code",
      "source": "from subprocess import check_output",
      "execution_count": 115,
      "outputs": []
    },
    {
      "metadata": {
        "_cell_guid": "9f090aee-c98e-4082-94a0-8719c5894eed",
        "_uuid": "0ef37fdefbd4fcc63c7265eaf5c50576c4aed7de",
        "trusted": true
      },
      "cell_type": "code",
      "source": "traindatafile = '../input/fashion-mnist_train.csv'\ntestdatafile = '../input/fashion-mnist_test.csv'",
      "execution_count": 116,
      "outputs": []
    },
    {
      "metadata": {
        "_cell_guid": "256661f0-d2a8-438f-927b-39ab2114ef56",
        "_uuid": "5628714716b70685d4ba35e2f9a9bbddd9002ddf",
        "trusted": true
      },
      "cell_type": "code",
      "source": "import tensorflow as tf\ntf.logging.set_verbosity(tf.logging.ERROR)",
      "execution_count": 117,
      "outputs": []
    },
    {
      "metadata": {
        "_cell_guid": "5eeabae0-2dc4-4f2c-b967-e627f0622246",
        "_uuid": "8dd950c84f793449391e69332c98745597acae10",
        "trusted": true
      },
      "cell_type": "code",
      "source": "MODEL_DIR = './fashion-model'",
      "execution_count": 118,
      "outputs": []
    },
    {
      "metadata": {
        "_cell_guid": "13f3673c-2eeb-4d69-8781-658667db1480",
        "_uuid": "a983e997b7b3efb37055ddedb92321525c3c61ae",
        "trusted": true
      },
      "cell_type": "code",
      "source": "features = [tf.feature_column.numeric_column('pixels', shape=[28,28])]",
      "execution_count": 119,
      "outputs": []
    },
    {
      "metadata": {
        "_cell_guid": "47b23a01-30e1-43d5-8aae-f3324923c211",
        "_uuid": "ac967d0608417ad5a27a6dd035e179ef14453304",
        "trusted": true
      },
      "cell_type": "code",
      "source": "classifier = tf.estimator.LinearClassifier(\n    feature_columns=features,\n    n_classes=10,\n    model_dir=MODEL_DIR\n)",
      "execution_count": 120,
      "outputs": []
    },
    {
      "metadata": {
        "_cell_guid": "96300738-d2cf-46ef-bcf5-15b9a6ee6230",
        "_uuid": "87fe057221657f9afae97e561925c25eeff46c65",
        "trusted": true
      },
      "cell_type": "code",
      "source": "def generate_labelled_input_fn(csv_files, batch_size):\n    def input_fn():\n        file_queue = tf.train.string_input_producer(csv_files)\n        reader = tf.TextLineReader(skip_header_lines=1)\n        _, rows = reader.read_up_to(file_queue, num_records=100*batch_size)\n        expanded_rows = tf.expand_dims(rows, axis=-1)\n        shuffled_rows = tf.train.shuffle_batch(\n            [expanded_rows],\n            batch_size=batch_size,\n            capacity=20*batch_size,\n            min_after_dequeue=5*batch_size,\n            enqueue_many=True\n        )\n        record_defaults = [[0] for _ in range(28*28+1)]\n        columns = tf.decode_csv(shuffled_rows, record_defaults=record_defaults)\n        labels = columns[0]\n        pixels = tf.concat(columns[1:], axis=1)\n        return {'pixels': pixels}, labels\n    return input_fn",
      "execution_count": 121,
      "outputs": []
    },
    {
      "metadata": {
        "_cell_guid": "0fa5ef1b-f280-494f-b9f5-f98cde945bb2",
        "_uuid": "bb1a1025807480a5da276721b19d51dcad135422",
        "trusted": true
      },
      "cell_type": "code",
      "source": "BATCH_SIZE = 40",
      "execution_count": 122,
      "outputs": []
    },
    {
      "metadata": {
        "_cell_guid": "bb5689a1-2c55-418a-ba12-fdfd491098b5",
        "_uuid": "97fdcbfd9d552c487fcf71d57c049928e80ab45a",
        "trusted": true
      },
      "cell_type": "code",
      "source": "TRAIN_STEPS = 2000",
      "execution_count": 123,
      "outputs": []
    },
    {
      "metadata": {
        "scrolled": true,
        "_cell_guid": "7612c65c-37bd-4dc9-af3b-212d4754222a",
        "_uuid": "59dfd936470b2a40e73eec4cb04fb981b4db77ab",
        "trusted": true
      },
      "cell_type": "code",
      "source": "classifier.train(\n    input_fn=generate_labelled_input_fn([traindatafile], BATCH_SIZE),\n    steps=TRAIN_STEPS\n)",
      "execution_count": 124,
      "outputs": [
        {
          "output_type": "execute_result",
          "execution_count": 124,
          "data": {
            "text/plain": "<tensorflow.python.estimator.canned.linear.LinearClassifier at 0x7f4ea04f2a58>"
          },
          "metadata": {}
        }
      ]
    },
    {
      "metadata": {
        "scrolled": true,
        "_cell_guid": "92a9f95f-8c81-4b85-942f-252e5f306058",
        "_uuid": "62a33c837afb56c6caf36266c2d241edb35d9bdf",
        "trusted": true
      },
      "cell_type": "code",
      "source": "classifier.evaluate(\n    input_fn=generate_labelled_input_fn([testdatafile], BATCH_SIZE),\n    steps=100\n)",
      "execution_count": 125,
      "outputs": [
        {
          "output_type": "execute_result",
          "execution_count": 125,
          "data": {
            "text/plain": "{'accuracy': 0.8315,\n 'average_loss': 27.045015,\n 'loss': 1081.8007,\n 'global_step': 12000}"
          },
          "metadata": {}
        }
      ]
    },
    {
      "metadata": {
        "_cell_guid": "db9d1c04-95bd-44c3-b29e-28a93b241f74",
        "_uuid": "f4cbbb729073130311dd7a6381a35ba02ff07da3",
        "trusted": true
      },
      "cell_type": "code",
      "source": "import csv\nimport matplotlib.pyplot as plt\nimport numpy as np\nimport pandas as pd",
      "execution_count": 126,
      "outputs": []
    },
    {
      "metadata": {
        "_cell_guid": "b6d56025-b21a-466b-83aa-bb752bc29ea6",
        "_uuid": "d92b9b4e19b25fb38af8e7aecfeac7bee831600f",
        "trusted": true
      },
      "cell_type": "code",
      "source": "CLASSES = {\n    '0': 'Tees',\n    '1': 'Trousers',\n    '2': 'Sweat shirt',\n    '3': 'Gown',\n    '4': 'Over Coat',\n    '5': 'Sandal',\n    '6': 'Shirt',\n    '7': 'Shoes',\n    '8': 'Bag',\n    '9': 'Boots'\n}",
      "execution_count": 136,
      "outputs": []
    },
    {
      "metadata": {
        "_cell_guid": "8a76b8b3-a12d-49e7-914d-38bedf596eaf",
        "_uuid": "1ddbee5a4411915779921eda457607d95ce4e0a8",
        "trusted": true
      },
      "cell_type": "code",
      "source": "test_data = pd.read_csv(testdatafile)",
      "execution_count": 137,
      "outputs": []
    },
    {
      "metadata": {
        "_cell_guid": "6a04246a-13c0-4e02-9b84-8d7189895616",
        "_uuid": "50bb1bd5da445ca1fdc6cc26a27d6654c1309986",
        "trusted": true
      },
      "cell_type": "code",
      "source": "sample_row = test_data.sample()",
      "execution_count": 138,
      "outputs": []
    },
    {
      "metadata": {
        "_cell_guid": "0f3e3d70-59f3-4686-b533-4e4672d47eac",
        "_uuid": "69d756075bce5127e4aab979eeb5bcce1d62a645",
        "trusted": true
      },
      "cell_type": "code",
      "source": "sample = list(sample_row.iloc[0])\nlabel = sample[0]\npixels = sample[1:]",
      "execution_count": 139,
      "outputs": []
    },
    {
      "metadata": {
        "_cell_guid": "801b9ba8-b6be-49fb-91e7-77a44dac2795",
        "_uuid": "91649df68a11e2bff5c9e9b2df8d51bfdbc6fcbe",
        "trusted": true
      },
      "cell_type": "code",
      "source": "image_array = np.asarray(pixels, dtype=np.float32).reshape((28, 28))",
      "execution_count": 140,
      "outputs": []
    },
    {
      "metadata": {
        "_cell_guid": "654b2fd8-96e6-46cb-968a-b791831ead9c",
        "_uuid": "42997ffa5de7cbd034002e5aac88b5d651dfc08c",
        "trusted": true
      },
      "cell_type": "code",
      "source": "def generate_prediction_input_fn(image_arrays):\n    def input_fn():\n        queue = tf.train.input_producer(\n            tf.constant(np.asarray(image_arrays)),\n            num_epochs=1\n        )\n        \n        image = queue.dequeue()\n        return {'pixels': [image]}\n    \n    return input_fn",
      "execution_count": 141,
      "outputs": []
    },
    {
      "metadata": {
        "_cell_guid": "b91f1fb3-577b-49b4-a32c-2a7d6d18d5a4",
        "_uuid": "56cd7d78474f816cd9bb67caa2218cdc6b4c5632",
        "trusted": true
      },
      "cell_type": "code",
      "source": "predictions = classifier.predict(\n    generate_prediction_input_fn([image_array])\n)",
      "execution_count": 142,
      "outputs": []
    },
    {
      "metadata": {
        "_cell_guid": "d395a7eb-c479-47c1-b762-31339ca17214",
        "_uuid": "97bbda6dc2bc533dd5efd4ca396873c6b5a135ac",
        "trusted": true
      },
      "cell_type": "code",
      "source": "prediction = next(predictions)",
      "execution_count": 143,
      "outputs": []
    },
    {
      "metadata": {
        "_cell_guid": "c0436245-f1cf-42a8-a7bd-f3bb6b5f5259",
        "_uuid": "5bcf3c472143d948cf492c84580ee0b76e367f2c",
        "trusted": true
      },
      "cell_type": "code",
      "source": "print('Actual label: {}'.format(CLASSES[str(label)]))\npredicted_class = prediction['classes'][0].decode('utf-8')\nprint('Predicted class: {}'.format(\n    CLASSES[predicted_class]\n))",
      "execution_count": 144,
      "outputs": [
        {
          "output_type": "stream",
          "text": "Actual label: Boots\nPredicted class: Boots\n",
          "name": "stdout"
        }
      ]
    },
    {
      "metadata": {
        "trusted": true,
        "_uuid": "ff9a648849cb1b710fa7e5bb87c55ff625818cc0"
      },
      "cell_type": "code",
      "source": "",
      "execution_count": null,
      "outputs": []
    },
    {
      "metadata": {
        "trusted": true,
        "_uuid": "60184140fded6c27da232c90b074693f39c5023d"
      },
      "cell_type": "code",
      "source": "",
      "execution_count": null,
      "outputs": []
    },
    {
      "metadata": {
        "trusted": true,
        "_uuid": "0516706e418bd802ead0965b881ac558ac0d59b0"
      },
      "cell_type": "code",
      "source": "",
      "execution_count": null,
      "outputs": []
    },
    {
      "metadata": {
        "trusted": true,
        "_uuid": "ce514ab3cfdedae1305a0a5dba57b969dc658ef6"
      },
      "cell_type": "code",
      "source": "",
      "execution_count": null,
      "outputs": []
    }
  ],
  "metadata": {
    "kernelspec": {
      "display_name": "Python 3",
      "language": "python",
      "name": "python3"
    },
    "language_info": {
      "name": "python",
      "version": "3.6.6",
      "mimetype": "text/x-python",
      "codemirror_mode": {
        "name": "ipython",
        "version": 3
      },
      "pygments_lexer": "ipython3",
      "nbconvert_exporter": "python",
      "file_extension": ".py"
    }
  },
  "nbformat": 4,
  "nbformat_minor": 1
}